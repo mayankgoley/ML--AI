{
 "cells": [
  {
   "cell_type": "markdown",
   "metadata": {},
   "source": [
    "Pandas is a Python library used for:\n",
    "\n",
    "Working with tabular data (like Excel sheets or SQL tables)\n",
    "Data cleaning, transformation, and analysis\n",
    "Making your data ready for machine learning or visualization\n",
    "Think of pandas as Excel in Python — but faster, more powerful, and programmable."
   ]
  },
  {
   "cell_type": "markdown",
   "metadata": {},
   "source": [
    "Series:\n",
    "\n",
    "A Series is basically a single column of data with labels (called an index).\n",
    "\n",
    "Think of it like a list in Python, but smarter. It has:\n",
    "\n",
    "1 - Values (like numbers, names, etc.)\n",
    "2 - Indexes (labels or row numbers)\n",
    "\n",
    "Imagine an Excel column labeled \"Age\" with values like this:\n",
    "\n",
    "Index\tAge\n",
    "0\t    25\n",
    "1\t    30\n",
    "2\t    35\n",
    "This column(Age) is a Series.\n"
   ]
  },
  {
   "cell_type": "code",
   "execution_count": 3,
   "metadata": {},
   "outputs": [
    {
     "name": "stdout",
     "output_type": "stream",
     "text": [
      "Series \n",
      " 0    1\n",
      "1    2\n",
      "2    3\n",
      "3    4\n",
      "4    5\n",
      "dtype: int64\n",
      "<class 'pandas.core.series.Series'>\n"
     ]
    }
   ],
   "source": [
    "# Series\n",
    "\n",
    "import pandas as pd\n",
    "\n",
    "data = [1,2,3,4,5]\n",
    "s = pd.Series(data)\n",
    "print(\"Series \\n\", s)\n",
    "print(type(s))"
   ]
  },
  {
   "cell_type": "code",
   "execution_count": 22,
   "metadata": {},
   "outputs": [
    {
     "name": "stdout",
     "output_type": "stream",
     "text": [
      "Series: \n",
      " a    1\n",
      "b    2\n",
      "c    3\n",
      "dtype: int64\n"
     ]
    }
   ],
   "source": [
    "# Create Series from dictionary\n",
    "\n",
    "data_dict = {'a': 1, 'b':2, 'c': 3}\n",
    "s_dict = pd.Series(data_dict)\n",
    "print(\"Series: \\n\", s_dict)"
   ]
  },
  {
   "cell_type": "code",
   "execution_count": 23,
   "metadata": {},
   "outputs": [
    {
     "name": "stdout",
     "output_type": "stream",
     "text": [
      "Series:\n",
      " New York       1\n",
      "Los Angeles    2\n",
      "Chicago        3\n",
      "Dallas         4\n",
      "Seattle        5\n",
      "dtype: int64\n"
     ]
    }
   ],
   "source": [
    "#Create custom index series\n",
    "\n",
    "data = [1,2,3,4,5]\n",
    "index = ['New York', 'Los Angeles', 'Chicago', 'Dallas', 'Seattle']\n",
    "s = pd.Series(data, index = index)\n",
    "print(\"Series:\\n\", s)"
   ]
  },
  {
   "cell_type": "code",
   "execution_count": null,
   "metadata": {},
   "outputs": [
    {
     "name": "stdout",
     "output_type": "stream",
     "text": [
      "data:    Name:  Age:        City:\n",
      "0  David    23     New York\n",
      "1   Jack    35  Los Angeles\n",
      "2   John    32      Chicago\n",
      "3   Mary    27      Houston\n"
     ]
    }
   ],
   "source": [
    "# Create dataframe from dictionary\n",
    "\n",
    "import pandas as pd\n",
    "\n",
    "data = {\n",
    "    \"Name:\" : [\"David\", \"Jack\", \"John\", \"Mary\"],\n",
    "    \"Age:\" : [23, 35, 32, 27],\n",
    "    \"City:\" : [\"New York\", \"Los Angeles\", \"Chicago\", \"Houston\"]\n",
    "}\n",
    "df = pd.DataFrame(data)\n",
    "\n",
    "print(\"data:\", df)"
   ]
  },
  {
   "cell_type": "code",
   "execution_count": 26,
   "metadata": {},
   "outputs": [
    {
     "name": "stdout",
     "output_type": "stream",
     "text": [
      "[['David' 23 'New York']\n",
      " ['Jack' 35 'Los Angeles']\n",
      " ['John' 32 'Chicago']\n",
      " ['Mary' 27 'Houston']]\n"
     ]
    }
   ],
   "source": [
    "# Covert Dataframe to Numpy array\n",
    "\n",
    "import pandas as pd\n",
    "\n",
    "data = {\n",
    "    \"Name:\" : [\"David\", \"Jack\", \"John\", \"Mary\"],\n",
    "    \"Age:\" : [23, 35, 32, 27],\n",
    "    \"City:\" : [\"New York\", \"Los Angeles\", \"Chicago\", \"Houston\"]\n",
    "}\n",
    "df = pd.DataFrame(data)\n",
    "\n",
    "import numpy as np\n",
    "array = df.to_numpy()\n",
    "print(array)"
   ]
  },
  {
   "cell_type": "code",
   "execution_count": 27,
   "metadata": {},
   "outputs": [
    {
     "name": "stdout",
     "output_type": "stream",
     "text": [
      "DataFrame:\n",
      "    Name:  Age         City\n",
      "0  David   23     New York\n",
      "1   Jack   35  Los Angeles\n",
      "2   John   32      Chicago\n",
      "3   Mary   27      Houston\n"
     ]
    }
   ],
   "source": [
    "# Create dataframe from list of dictionary\n",
    "\n",
    "data = [\n",
    "    {'Name:' : 'David', 'Age': 23, 'City': 'New York'},\n",
    "    {'Name:' : 'Jack', 'Age': 35, 'City': 'Los Angeles'},\n",
    "    {'Name:' : 'John', 'Age': 32, 'City': 'Chicago'},\n",
    "    {'Name:' : 'Mary', 'Age': 27, 'City': 'Houston'}\n",
    "]\n",
    "\n",
    "df = pd.DataFrame(data)\n",
    "print(\"DataFrame:\\n\", df)"
   ]
  },
  {
   "cell_type": "code",
   "execution_count": 28,
   "metadata": {},
   "outputs": [
    {
     "name": "stdout",
     "output_type": "stream",
     "text": [
      "         Age           City\n",
      "Alice     25       New York\n",
      "Bob       30  San Francisco\n",
      "Charlie   35    Los Angeles\n"
     ]
    },
    {
     "data": {
      "text/plain": [
       "Age           25\n",
       "City    New York\n",
       "Name: Alice, dtype: object"
      ]
     },
     "execution_count": 28,
     "metadata": {},
     "output_type": "execute_result"
    }
   ],
   "source": [
    "# df.loc\n",
    "#.loc is used to:\n",
    "# Access rows and columns by label (not by number/index position)\n",
    "# Select a specific row, range of rows, or specific cell\n",
    "# Filter or update values based on conditions\n",
    "\n",
    "data = {\n",
    "    \"Age\": [25, 30, 35],\n",
    "    \"City\": [\"New York\", \"San Francisco\", \"Los Angeles\"]\n",
    "}\n",
    "\n",
    "df = pd.DataFrame(data, index=[\"Alice\", \"Bob\", \"Charlie\"])\n",
    "print(df)\n",
    "\n",
    "df.loc[\"Alice\"]"
   ]
  },
  {
   "cell_type": "code",
   "execution_count": 4,
   "metadata": {},
   "outputs": [
    {
     "name": "stdout",
     "output_type": "stream",
     "text": [
      "<bound method DataFrame.info of       Time_spent_Alone Stage_fear  Social_event_attendance  Going_outside  \\\n",
      "0                  4.0         No                      4.0            6.0   \n",
      "1                  9.0        Yes                      0.0            0.0   \n",
      "2                  9.0        Yes                      1.0            2.0   \n",
      "3                  0.0         No                      6.0            7.0   \n",
      "4                  3.0         No                      9.0            4.0   \n",
      "...                ...        ...                      ...            ...   \n",
      "2895               3.0         No                      7.0            6.0   \n",
      "2896               3.0         No                      8.0            3.0   \n",
      "2897               4.0        Yes                      1.0            1.0   \n",
      "2898              11.0        Yes                      1.0            NaN   \n",
      "2899               3.0         No                      6.0            6.0   \n",
      "\n",
      "     Drained_after_socializing  Friends_circle_size  Post_frequency  \\\n",
      "0                           No                 13.0             5.0   \n",
      "1                          Yes                  0.0             3.0   \n",
      "2                          Yes                  5.0             2.0   \n",
      "3                           No                 14.0             8.0   \n",
      "4                           No                  8.0             5.0   \n",
      "...                        ...                  ...             ...   \n",
      "2895                        No                  6.0             6.0   \n",
      "2896                        No                 14.0             9.0   \n",
      "2897                       Yes                  4.0             0.0   \n",
      "2898                       Yes                  2.0             0.0   \n",
      "2899                        No                  6.0             9.0   \n",
      "\n",
      "     Personality  \n",
      "0      Extrovert  \n",
      "1      Introvert  \n",
      "2      Introvert  \n",
      "3      Extrovert  \n",
      "4      Extrovert  \n",
      "...          ...  \n",
      "2895   Extrovert  \n",
      "2896   Extrovert  \n",
      "2897   Introvert  \n",
      "2898   Introvert  \n",
      "2899   Extrovert  \n",
      "\n",
      "[2900 rows x 8 columns]>\n",
      "Index(['Time_spent_Alone', 'Stage_fear', 'Social_event_attendance',\n",
      "       'Going_outside', 'Drained_after_socializing', 'Friends_circle_size',\n",
      "       'Post_frequency', 'Personality'],\n",
      "      dtype='object')\n"
     ]
    }
   ],
   "source": [
    "#Read data from CSV/Excel file\n",
    "\n",
    "data = pd.read_csv(\"/Users/goley/Documents/Learn/ML, AI/Files/personality_dataset.csv\")\n",
    "print(data.info)\n",
    "print(data.columns)"
   ]
  },
  {
   "cell_type": "code",
   "execution_count": 9,
   "metadata": {},
   "outputs": [
    {
     "name": "stdout",
     "output_type": "stream",
     "text": [
      "   Time_spent_Alone Stage_fear  Social_event_attendance  Going_outside  \\\n",
      "0               4.0         No                      4.0            6.0   \n",
      "1               9.0        Yes                      0.0            0.0   \n",
      "2               9.0        Yes                      1.0            2.0   \n",
      "3               0.0         No                      6.0            7.0   \n",
      "4               3.0         No                      9.0            4.0   \n",
      "\n",
      "  Drained_after_socializing  Friends_circle_size  Post_frequency Personality  \n",
      "0                        No                 13.0             5.0   Extrovert  \n",
      "1                       Yes                  0.0             3.0   Introvert  \n",
      "2                       Yes                  5.0             2.0   Introvert  \n",
      "3                        No                 14.0             8.0   Extrovert  \n",
      "4                        No                  8.0             5.0   Extrovert  \n",
      "   Time_spent_Alone Stage_fear  Social_event_attendance  Going_outside  \\\n",
      "0               4.0         No                      4.0            6.0   \n",
      "1               9.0        Yes                      0.0            0.0   \n",
      "2               9.0        Yes                      1.0            2.0   \n",
      "3               0.0         No                      6.0            7.0   \n",
      "4               3.0         No                      9.0            4.0   \n",
      "5               1.0         No                      7.0            5.0   \n",
      "6               4.0         No                      9.0            NaN   \n",
      "7               2.0         No                      8.0            4.0   \n",
      "8              10.0        Yes                      1.0            3.0   \n",
      "9               0.0         No                      8.0            6.0   \n",
      "\n",
      "  Drained_after_socializing  Friends_circle_size  Post_frequency Personality  \n",
      "0                        No                 13.0             5.0   Extrovert  \n",
      "1                       Yes                  0.0             3.0   Introvert  \n",
      "2                       Yes                  5.0             2.0   Introvert  \n",
      "3                        No                 14.0             8.0   Extrovert  \n",
      "4                        No                  8.0             5.0   Extrovert  \n",
      "5                        No                  6.0             6.0   Extrovert  \n",
      "6                        No                  7.0             7.0   Extrovert  \n",
      "7                        No                  7.0             8.0   Extrovert  \n",
      "8                       Yes                  0.0             3.0   Introvert  \n",
      "9                        No                 13.0             8.0   Extrovert  \n",
      "      Time_spent_Alone Stage_fear  Social_event_attendance  Going_outside  \\\n",
      "2895               3.0         No                      7.0            6.0   \n",
      "2896               3.0         No                      8.0            3.0   \n",
      "2897               4.0        Yes                      1.0            1.0   \n",
      "2898              11.0        Yes                      1.0            NaN   \n",
      "2899               3.0         No                      6.0            6.0   \n",
      "\n",
      "     Drained_after_socializing  Friends_circle_size  Post_frequency  \\\n",
      "2895                        No                  6.0             6.0   \n",
      "2896                        No                 14.0             9.0   \n",
      "2897                       Yes                  4.0             0.0   \n",
      "2898                       Yes                  2.0             0.0   \n",
      "2899                        No                  6.0             9.0   \n",
      "\n",
      "     Personality  \n",
      "2895   Extrovert  \n",
      "2896   Extrovert  \n",
      "2897   Introvert  \n",
      "2898   Introvert  \n",
      "2899   Extrovert  \n"
     ]
    }
   ],
   "source": [
    "print(data.head())\n",
    "print(data.head(10))\n",
    "print(data.tail())"
   ]
  },
  {
   "cell_type": "code",
   "execution_count": 11,
   "metadata": {},
   "outputs": [
    {
     "name": "stdout",
     "output_type": "stream",
     "text": [
      "(2900, 8)\n"
     ]
    }
   ],
   "source": [
    "print(data.shape) #rows, columns\n",
    "\n"
   ]
  },
  {
   "cell_type": "code",
   "execution_count": 12,
   "metadata": {},
   "outputs": [
    {
     "name": "stdout",
     "output_type": "stream",
     "text": [
      "       Time_spent_Alone  Social_event_attendance  Going_outside  \\\n",
      "count       2837.000000              2838.000000    2834.000000   \n",
      "mean           4.505816                 3.963354       3.000000   \n",
      "std            3.479192                 2.903827       2.247327   \n",
      "min            0.000000                 0.000000       0.000000   \n",
      "25%            2.000000                 2.000000       1.000000   \n",
      "50%            4.000000                 3.000000       3.000000   \n",
      "75%            8.000000                 6.000000       5.000000   \n",
      "max           11.000000                10.000000       7.000000   \n",
      "\n",
      "       Friends_circle_size  Post_frequency  \n",
      "count          2823.000000     2835.000000  \n",
      "mean              6.268863        3.564727  \n",
      "std               4.289693        2.926582  \n",
      "min               0.000000        0.000000  \n",
      "25%               3.000000        1.000000  \n",
      "50%               5.000000        3.000000  \n",
      "75%              10.000000        6.000000  \n",
      "max              15.000000       10.000000  \n"
     ]
    }
   ],
   "source": [
    "print(data.describe()) #summary statistics\n"
   ]
  },
  {
   "cell_type": "code",
   "execution_count": 13,
   "metadata": {},
   "outputs": [
    {
     "name": "stdout",
     "output_type": "stream",
     "text": [
      "Index(['Time_spent_Alone', 'Stage_fear', 'Social_event_attendance',\n",
      "       'Going_outside', 'Drained_after_socializing', 'Friends_circle_size',\n",
      "       'Post_frequency', 'Personality'],\n",
      "      dtype='object')\n"
     ]
    }
   ],
   "source": [
    "print(data.columns) #column names\n"
   ]
  },
  {
   "cell_type": "code",
   "execution_count": null,
   "metadata": {},
   "outputs": [
    {
     "name": "stdout",
     "output_type": "stream",
     "text": [
      "Time_spent_Alone             float64\n",
      "Stage_fear                    object\n",
      "Social_event_attendance      float64\n",
      "Going_outside                float64\n",
      "Drained_after_socializing     object\n",
      "Friends_circle_size          float64\n",
      "Post_frequency               float64\n",
      "Personality                   object\n",
      "dtype: object\n"
     ]
    }
   ],
   "source": [
    "# df.dtypes → What kind of data is in each column?\n",
    "# This tells you the type of data in every column.\n",
    "\n",
    "print(data.dtypes) #data types of each column\n"
   ]
  },
  {
   "cell_type": "code",
   "execution_count": null,
   "metadata": {},
   "outputs": [
    {
     "name": "stdout",
     "output_type": "stream",
     "text": [
      "<class 'pandas.core.frame.DataFrame'>\n",
      "RangeIndex: 2900 entries, 0 to 2899\n",
      "Data columns (total 8 columns):\n",
      " #   Column                     Non-Null Count  Dtype  \n",
      "---  ------                     --------------  -----  \n",
      " 0   Time_spent_Alone           2837 non-null   float64\n",
      " 1   Stage_fear                 2827 non-null   object \n",
      " 2   Social_event_attendance    2838 non-null   float64\n",
      " 3   Going_outside              2834 non-null   float64\n",
      " 4   Drained_after_socializing  2848 non-null   object \n",
      " 5   Friends_circle_size        2823 non-null   float64\n",
      " 6   Post_frequency             2835 non-null   float64\n",
      " 7   Personality                2900 non-null   object \n",
      "dtypes: float64(5), object(3)\n",
      "memory usage: 181.4+ KB\n",
      "None\n"
     ]
    }
   ],
   "source": [
    "# df.info() → Quick summary of the DataFrame\n",
    "\n",
    "# Total number of rows and columns\n",
    "# Names and data types of each column\n",
    "# How many non-missing values are in each column\n",
    "# How much memory the whole table is using\n",
    "\n",
    "print(data.info()) #summary of the DataFrame"
   ]
  },
  {
   "cell_type": "code",
   "execution_count": null,
   "metadata": {},
   "outputs": [
    {
     "name": "stdout",
     "output_type": "stream",
     "text": [
      "Time_spent_Alone              True\n",
      "Stage_fear                    True\n",
      "Social_event_attendance       True\n",
      "Going_outside                 True\n",
      "Drained_after_socializing     True\n",
      "Friends_circle_size           True\n",
      "Post_frequency                True\n",
      "Personality                  False\n",
      "dtype: bool\n"
     ]
    }
   ],
   "source": [
    "print(data.isnull().any())"
   ]
  },
  {
   "cell_type": "code",
   "execution_count": 8,
   "metadata": {},
   "outputs": [
    {
     "name": "stdout",
     "output_type": "stream",
     "text": [
      "Time_spent_Alone             63\n",
      "Stage_fear                   73\n",
      "Social_event_attendance      62\n",
      "Going_outside                66\n",
      "Drained_after_socializing    52\n",
      "Friends_circle_size          77\n",
      "Post_frequency               65\n",
      "Personality                   0\n",
      "dtype: int64\n"
     ]
    }
   ],
   "source": [
    "print(data.isnull().sum())"
   ]
  },
  {
   "cell_type": "code",
   "execution_count": 12,
   "metadata": {},
   "outputs": [
    {
     "name": "stdout",
     "output_type": "stream",
     "text": [
      "   Time_spent_Alone Stage_fear  Social_event_attendance  Going_outside  \\\n",
      "0               4.0         No                      4.0            6.0   \n",
      "1               9.0        Yes                      0.0            0.0   \n",
      "2               9.0        Yes                      1.0            2.0   \n",
      "3               0.0         No                      6.0            7.0   \n",
      "4               3.0         No                      9.0            4.0   \n",
      "\n",
      "  Drained_after_socializing  Friends_circle_size  Post_frequency  \\\n",
      "0                        No                 13.0             5.0   \n",
      "1                       Yes                  0.0             3.0   \n",
      "2                       Yes                  5.0             2.0   \n",
      "3                        No                 14.0             8.0   \n",
      "4                        No                  8.0             5.0   \n",
      "\n",
      "  Personality Type  \n",
      "0        Extrovert  \n",
      "1        Introvert  \n",
      "2        Introvert  \n",
      "3        Extrovert  \n",
      "4        Extrovert  \n"
     ]
    }
   ],
   "source": [
    "data_updated = data.rename(columns={'Personality': 'Personality Type'})\n",
    "print(data_updated.head())"
   ]
  },
  {
   "cell_type": "code",
   "execution_count": 13,
   "metadata": {},
   "outputs": [
    {
     "name": "stdout",
     "output_type": "stream",
     "text": [
      "Index(['Time_spent_Alone', 'Stage_fear', 'Social_event_attendance',\n",
      "       'Going_outside', 'Drained_after_socializing', 'Friends_circle_size',\n",
      "       'Post_frequency', 'Personality'],\n",
      "      dtype='object')\n"
     ]
    }
   ],
   "source": [
    "print(data.columns)"
   ]
  },
  {
   "cell_type": "code",
   "execution_count": 18,
   "metadata": {},
   "outputs": [
    {
     "data": {
      "text/html": [
       "<div>\n",
       "<style scoped>\n",
       "    .dataframe tbody tr th:only-of-type {\n",
       "        vertical-align: middle;\n",
       "    }\n",
       "\n",
       "    .dataframe tbody tr th {\n",
       "        vertical-align: top;\n",
       "    }\n",
       "\n",
       "    .dataframe thead th {\n",
       "        text-align: right;\n",
       "    }\n",
       "</style>\n",
       "<table border=\"1\" class=\"dataframe\">\n",
       "  <thead>\n",
       "    <tr style=\"text-align: right;\">\n",
       "      <th></th>\n",
       "      <th>Time_spent_Alone</th>\n",
       "      <th>Stage_fear</th>\n",
       "      <th>Social_event_attendance</th>\n",
       "      <th>Going_outside</th>\n",
       "      <th>Drained_after_socializing</th>\n",
       "      <th>Friends_circle_size</th>\n",
       "      <th>Post_frequency</th>\n",
       "      <th>Personality Type</th>\n",
       "      <th>New_Friends_circle_size</th>\n",
       "    </tr>\n",
       "  </thead>\n",
       "  <tbody>\n",
       "    <tr>\n",
       "      <th>0</th>\n",
       "      <td>4.0</td>\n",
       "      <td>No</td>\n",
       "      <td>4.0</td>\n",
       "      <td>6.0</td>\n",
       "      <td>No</td>\n",
       "      <td>13.0</td>\n",
       "      <td>5.0</td>\n",
       "      <td>Extrovert</td>\n",
       "      <td>16.0</td>\n",
       "    </tr>\n",
       "    <tr>\n",
       "      <th>1</th>\n",
       "      <td>9.0</td>\n",
       "      <td>Yes</td>\n",
       "      <td>0.0</td>\n",
       "      <td>0.0</td>\n",
       "      <td>Yes</td>\n",
       "      <td>0.0</td>\n",
       "      <td>3.0</td>\n",
       "      <td>Introvert</td>\n",
       "      <td>0.0</td>\n",
       "    </tr>\n",
       "    <tr>\n",
       "      <th>2</th>\n",
       "      <td>9.0</td>\n",
       "      <td>Yes</td>\n",
       "      <td>1.0</td>\n",
       "      <td>2.0</td>\n",
       "      <td>Yes</td>\n",
       "      <td>5.0</td>\n",
       "      <td>2.0</td>\n",
       "      <td>Introvert</td>\n",
       "      <td>10.0</td>\n",
       "    </tr>\n",
       "    <tr>\n",
       "      <th>3</th>\n",
       "      <td>0.0</td>\n",
       "      <td>No</td>\n",
       "      <td>6.0</td>\n",
       "      <td>7.0</td>\n",
       "      <td>No</td>\n",
       "      <td>14.0</td>\n",
       "      <td>8.0</td>\n",
       "      <td>Extrovert</td>\n",
       "      <td>18.0</td>\n",
       "    </tr>\n",
       "    <tr>\n",
       "      <th>4</th>\n",
       "      <td>3.0</td>\n",
       "      <td>No</td>\n",
       "      <td>9.0</td>\n",
       "      <td>4.0</td>\n",
       "      <td>No</td>\n",
       "      <td>8.0</td>\n",
       "      <td>5.0</td>\n",
       "      <td>Extrovert</td>\n",
       "      <td>16.0</td>\n",
       "    </tr>\n",
       "  </tbody>\n",
       "</table>\n",
       "</div>"
      ],
      "text/plain": [
       "   Time_spent_Alone Stage_fear  Social_event_attendance  Going_outside  \\\n",
       "0               4.0         No                      4.0            6.0   \n",
       "1               9.0        Yes                      0.0            0.0   \n",
       "2               9.0        Yes                      1.0            2.0   \n",
       "3               0.0         No                      6.0            7.0   \n",
       "4               3.0         No                      9.0            4.0   \n",
       "\n",
       "  Drained_after_socializing  Friends_circle_size  Post_frequency  \\\n",
       "0                        No                 13.0             5.0   \n",
       "1                       Yes                  0.0             3.0   \n",
       "2                       Yes                  5.0             2.0   \n",
       "3                        No                 14.0             8.0   \n",
       "4                        No                  8.0             5.0   \n",
       "\n",
       "  Personality Type  New_Friends_circle_size  \n",
       "0        Extrovert                     16.0  \n",
       "1        Introvert                      0.0  \n",
       "2        Introvert                     10.0  \n",
       "3        Extrovert                     18.0  \n",
       "4        Extrovert                     16.0  "
      ]
     },
     "execution_count": 18,
     "metadata": {},
     "output_type": "execute_result"
    }
   ],
   "source": [
    "data_updated['New_Friends_circle_size'] = data_updated['Friends_circle_size'].apply(lambda x: x + (x %10))\n",
    "data_updated.head()"
   ]
  },
  {
   "cell_type": "code",
   "execution_count": null,
   "metadata": {},
   "outputs": [
    {
     "name": "stdout",
     "output_type": "stream",
     "text": [
      "Personality Type\n",
      "Extrovert    13.543763\n",
      "Introvert     5.978134\n",
      "Name: New_Friends_circle_size, dtype: float64\n"
     ]
    }
   ],
   "source": [
    "# Data Aggregation and Grouping\n",
    "# Grouping data by a specific column and calculating statistics\n",
    "\n",
    "grouped_mean = data_updated.groupby('Personality Type')['New_Friends_circle_size'].mean()\n",
    "print(grouped_mean)"
   ]
  },
  {
   "cell_type": "code",
   "execution_count": 28,
   "metadata": {},
   "outputs": [
    {
     "name": "stdout",
     "output_type": "stream",
     "text": [
      "['Time_spent_Alone', 'Stage_fear', 'Social_event_attendance', 'Going_outside', 'Drained_after_socializing', 'Friends_circle_size', 'Post_frequency', 'Personality Type', 'New_Friends_circle_size']\n"
     ]
    }
   ],
   "source": [
    "print(data_updated.columns.tolist())"
   ]
  },
  {
   "cell_type": "code",
   "execution_count": 39,
   "metadata": {},
   "outputs": [
    {
     "name": "stdout",
     "output_type": "stream",
     "text": [
      "Personality Type\n",
      "Extrovert    13.543763\n",
      "Introvert     5.978134\n",
      "Name: New_Friends_circle_size, dtype: float64\n"
     ]
    }
   ],
   "source": [
    "# Groupby multiple columns and calculate statistics\n",
    "\n",
    "grouped_data = data_updated.groupby('Personality Type')['New_Friends_circle_size'].mean()\n",
    "print(grouped_data)"
   ]
  }
 ],
 "metadata": {
  "kernelspec": {
   "display_name": "Python 3",
   "language": "python",
   "name": "python3"
  },
  "language_info": {
   "codemirror_mode": {
    "name": "ipython",
    "version": 3
   },
   "file_extension": ".py",
   "mimetype": "text/x-python",
   "name": "python",
   "nbconvert_exporter": "python",
   "pygments_lexer": "ipython3",
   "version": "3.13.1"
  }
 },
 "nbformat": 4,
 "nbformat_minor": 2
}
